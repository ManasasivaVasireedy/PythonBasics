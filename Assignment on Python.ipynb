{
 "cells": [
  {
   "cell_type": "markdown",
   "id": "be552f5b-98d6-461c-ba81-b26cd9e8176a",
   "metadata": {},
   "source": [
    "WAP to accept two numbers from the user and display their sum"
   ]
  },
  {
   "cell_type": "code",
   "execution_count": 1,
   "id": "3684ec3b-f703-41b9-bcc6-6738acc5bbfa",
   "metadata": {},
   "outputs": [
    {
     "name": "stdin",
     "output_type": "stream",
     "text": [
      "Enter any number: 9\n",
      "Enter any number: 8\n"
     ]
    },
    {
     "name": "stdout",
     "output_type": "stream",
     "text": [
      "The Sum of two numbers 9,8 is 17\n"
     ]
    }
   ],
   "source": [
    "n1 = int(input(\"Enter any number:\"))\n",
    "n2 = int(input(\"Enter any number:\"))\n",
    "n3 = n1+n2\n",
    "print(\"The Sum of two numbers {},{} is {}\".format(n1,n2,n3))"
   ]
  },
  {
   "cell_type": "markdown",
   "id": "599060f2-0641-4fde-a57a-73a7d23ca576",
   "metadata": {},
   "source": [
    "WAP to accept radius of a Circle from the user and calculate area and circumference"
   ]
  },
  {
   "cell_type": "code",
   "execution_count": null,
   "id": "10214454-9bb4-4b85-8198-866c1538c706",
   "metadata": {},
   "outputs": [],
   "source": [
    "r = int(input(\"Enter Radius of Circle:\"))\n",
    "cir = 3.14*r**2\n",
    "circum = 2*3.14*r\n",
    "print(\"The Area of Circle is {} and Circumference is {}\".format(cir,circum))"
   ]
  },
  {
   "cell_type": "markdown",
   "id": "835f4049-bb3d-4bb4-9326-40cacc93aeaf",
   "metadata": {},
   "source": [
    "WAP to accept roll number , grade and percentage as input from the user and display it back"
   ]
  },
  {
   "cell_type": "code",
   "execution_count": 3,
   "id": "7a312eb6-0617-4999-9724-890ccc416443",
   "metadata": {},
   "outputs": [
    {
     "name": "stdin",
     "output_type": "stream",
     "text": [
      "Enter your roll_number: 405\n",
      "Enter your percentage: 99\n",
      "Enter your Grade: A\n"
     ]
    },
    {
     "name": "stdout",
     "output_type": "stream",
     "text": [
      "The Roll_number of a Student is 405 , the Percentage is 99 and Grade is A\n"
     ]
    }
   ],
   "source": [
    "roll_no = input(\"Enter your roll_number:\")\n",
    "perc = int(input(\"Enter your percentage:\"))\n",
    "grade = input(\"Enter your Grade:\")\n",
    "print(\"The Roll_number of a Student is {} , the Percentage is {} and Grade is {}\".format(roll_no,perc,grade))"
   ]
  },
  {
   "cell_type": "markdown",
   "id": "da2ef1a1-863d-4540-99b3-33c6cfb0fbd0",
   "metadata": {},
   "source": [
    "Write a program that asks the user to enter his/her name and age. Print out a message , displaying the user’s name along with the year in which they will turn 100 years old."
   ]
  },
  {
   "cell_type": "code",
   "execution_count": 4,
   "id": "eca7f072-6a6b-4b45-a2f8-3150df796e51",
   "metadata": {},
   "outputs": [
    {
     "name": "stdin",
     "output_type": "stream",
     "text": [
      "Enter your name: manasa\n",
      "Enter your age: 25\n"
     ]
    },
    {
     "name": "stdout",
     "output_type": "stream",
     "text": [
      "Hello manasa, you will be getting 100 years at this year 2097\n"
     ]
    }
   ],
   "source": [
    "name = input(\"Enter your name:\")\n",
    "age = int(input(\"Enter your age:\"))\n",
    "Birth_year = 2022-age\n",
    "after_100years = 100+Birth_year\n",
    "print(\"Hello {}, you will be getting 100 years at this year {}\".format(name,after_100years))"
   ]
  },
  {
   "cell_type": "markdown",
   "id": "7e4f9b95-2805-4dc0-8fd7-c52607dec3c0",
   "metadata": {},
   "source": [
    "Write a Python program which accepts the user's first and last name and print them in reverse order with a space between them."
   ]
  },
  {
   "cell_type": "code",
   "execution_count": 5,
   "id": "9c213e2c-54ee-4311-a4c3-f3365581a2b4",
   "metadata": {},
   "outputs": [
    {
     "name": "stdin",
     "output_type": "stream",
     "text": [
      "Enter your first_name: manasa\n",
      "Enter your last_name: vasireddy\n"
     ]
    },
    {
     "name": "stdout",
     "output_type": "stream",
     "text": [
      "The first_name and last_name of user is manasa vasireddy and it's reverse order will be ydderisav asanam:\n"
     ]
    }
   ],
   "source": [
    "first_name = input(\"Enter your first_name:\")\n",
    "last_name = input(\"Enter your last_name:\")\n",
    "rev1 = first_name[::-1]\n",
    "rev2 = last_name[::-1]\n",
    "reverse_order_name = rev2+' '+rev1\n",
    "print(\"The first_name and last_name of user is {} {} and it's reverse order will be {}:\".format(first_name,last_name,reverse_order_name)) "
   ]
  },
  {
   "cell_type": "markdown",
   "id": "0f20f759-6b26-4cb1-b9de-6888ce54fedb",
   "metadata": {},
   "source": [
    "WAP to accept an integer from the user and check whether it is an even or odd"
   ]
  },
  {
   "cell_type": "code",
   "execution_count": 6,
   "id": "00f998b7-2739-46a8-ae7c-f2c04d8b53f2",
   "metadata": {},
   "outputs": [
    {
     "name": "stdin",
     "output_type": "stream",
     "text": [
      "Enter any integer: 9\n"
     ]
    },
    {
     "name": "stdout",
     "output_type": "stream",
     "text": [
      "9 is an odd number\n"
     ]
    }
   ],
   "source": [
    "i = int(input(\"Enter any integer:\"))\n",
    "if (i%2==0):\n",
    "    print(\"{} is an Even number\".format(i))\n",
    "else:\n",
    "      print(\"{} is an odd number\".format(i))"
   ]
  },
  {
   "cell_type": "markdown",
   "id": "62af1894-3a28-4f2f-ab00-21130126ff8e",
   "metadata": {},
   "source": [
    "WAP to accept a character from the user and check whether it is a capital letter or small letter. Assume user will input only alphabets"
   ]
  },
  {
   "cell_type": "code",
   "execution_count": 7,
   "id": "2a04b8bc-3bd7-4cdc-a2ec-340a9e3d26cb",
   "metadata": {},
   "outputs": [
    {
     "name": "stdin",
     "output_type": "stream",
     "text": [
      "Enter any String: M\n"
     ]
    },
    {
     "name": "stdout",
     "output_type": "stream",
     "text": [
      "M is a Capital letter\n"
     ]
    }
   ],
   "source": [
    "ch = input(\"Enter any String:\")\n",
    "if \"A\"<=ch[0]<=\"Z\":\n",
    "    print(\"{} is a Capital letter\".format(ch[0]))\n",
    "else:\n",
    "    print(\"{} is a Small letter\".format(ch[0]))"
   ]
  },
  {
   "cell_type": "markdown",
   "id": "0d4a5d7d-3edc-480d-bdfd-f51d9139d3e2",
   "metadata": {},
   "source": [
    "WAP to accept a character from the user and check whether it is a capital letter or small letter or a digit or some special symbol"
   ]
  },
  {
   "cell_type": "code",
   "execution_count": 8,
   "id": "5281a756-7e46-400e-8f77-bfb3590fb102",
   "metadata": {},
   "outputs": [
    {
     "name": "stdin",
     "output_type": "stream",
     "text": [
      "Enter any String: Manasa\n"
     ]
    },
    {
     "name": "stdout",
     "output_type": "stream",
     "text": [
      "M is a Capital letter\n"
     ]
    }
   ],
   "source": [
    "ch = input(\"Enter any String:\")\n",
    "if \"A\"<=ch[0]<=\"Z\":\n",
    "    print(\"{} is a Capital letter\".format(ch[0]))\n",
    "elif \"a\"<=ch[0]<=\"z\":\n",
    "    print(\" {} is a Small letter\".format(ch[0]))\n",
    "else:\n",
    "    print(\" {} is a Special Symbol\".format(ch[0]))\n",
    "          "
   ]
  },
  {
   "cell_type": "markdown",
   "id": "eb4f22ae-6948-4a28-8cc2-df260d443eba",
   "metadata": {},
   "source": [
    "WAP to accept 3 integers from the user and without using any logical operator and cascading of relational operators , find out the greatest number amongst them"
   ]
  },
  {
   "cell_type": "code",
   "execution_count": 30,
   "id": "3ce178ef-e3d0-4f06-9453-e964c52a42c6",
   "metadata": {},
   "outputs": [
    {
     "name": "stdin",
     "output_type": "stream",
     "text": [
      "Enter any integer: 9\n",
      "Enter any integer: 8\n",
      "Enter any integer: 7\n"
     ]
    },
    {
     "name": "stdout",
     "output_type": "stream",
     "text": [
      "9 is a largest number\n"
     ]
    }
   ],
   "source": [
    "X = int(input(\"Enter any integer:\"))\n",
    "Y = int(input(\"Enter any integer:\"))\n",
    "Z = int(input(\"Enter any integer:\"))\n",
    "if X>Y:\n",
    "    if X>Z:\n",
    "        print(\"{x} is a largest number\".format(x=X))\n",
    "elif Y>Z:\n",
    "    if Y>X:\n",
    "        print(\" {y} is a largest number\".format(y=Y))\n",
    "else:\n",
    "        print(\" {z} is a largest number\".format(z=Z))\n",
    "        "
   ]
  },
  {
   "cell_type": "markdown",
   "id": "b72e2313-3498-4066-a19f-ea4efb60b0a8",
   "metadata": {},
   "source": [
    "WAP to accept a year from the user and check whether it is a leap year or not. An year is a leap year if: It is exactly divisible by 4 and at the same time not divisible by 100 OR It is divisible by 400 For example: 2017 is not a leap year 2012 is a leap year 1900 is a not leap year 2000 is a leap year"
   ]
  },
  {
   "cell_type": "code",
   "execution_count": 10,
   "id": "c1b46efd-fb0b-4a75-b80f-6f863aab090e",
   "metadata": {},
   "outputs": [
    {
     "name": "stdin",
     "output_type": "stream",
     "text": [
      "Enter any year: 2017\n"
     ]
    },
    {
     "name": "stdout",
     "output_type": "stream",
     "text": [
      " 2017 is not a leap year\n"
     ]
    }
   ],
   "source": [
    "year = int(input(\"Enter any year:\"))\n",
    "if (year%4 == 0 and year%100!=0):\n",
    "   print(\"{} is a leap year\".format(year))\n",
    "elif (year%400 == 0  and year%100 == 0):\n",
    "   print(\" {} is a leap year\".format(year))\n",
    "else:\n",
    "   print(\" {} is not a leap year\".format(year))"
   ]
  },
  {
   "cell_type": "markdown",
   "id": "99723db2-a32f-46af-977a-855d782864c0",
   "metadata": {},
   "source": [
    "Write a program using a for loop to accept a string from the user and display it vertically but don’t display the vowels in it.\n"
   ]
  },
  {
   "cell_type": "code",
   "execution_count": 15,
   "id": "e0bb457d-0ea8-4f16-a4e0-06e694d73d27",
   "metadata": {},
   "outputs": [
    {
     "name": "stdin",
     "output_type": "stream",
     "text": [
      "Enter any String: Manasa\n"
     ]
    },
    {
     "name": "stdout",
     "output_type": "stream",
     "text": [
      "String withu vowels: Mns\n"
     ]
    }
   ],
   "source": [
    "Str = input(\"Enter any String:\")\n",
    "vowels = [\"A\",\"E\",\"I\",\"O\",\"U\",\"a\",\"e\",\"i\",\"o\",\"u\"]\n",
    "result = \"\"\n",
    "for ch in Str:\n",
    "  if ch not in vowels:\n",
    "      result = result+ch\n",
    "print(\"String withu vowels:\",result)"
   ]
  },
  {
   "cell_type": "markdown",
   "id": "1dd42932-8cb2-42f7-a159-ee13d6433523",
   "metadata": {},
   "source": [
    "Write a program to accept an integer from the user and display the sum of all the numbers from 1 to that number.\n"
   ]
  },
  {
   "cell_type": "code",
   "execution_count": 18,
   "id": "b878b86e-b01b-4008-837a-bc25959d81a5",
   "metadata": {},
   "outputs": [
    {
     "name": "stdin",
     "output_type": "stream",
     "text": [
      "Enter any integer: 9\n"
     ]
    },
    {
     "name": "stdout",
     "output_type": "stream",
     "text": [
      "the sum of all the numbers from 1 to that number 0:\n",
      "the sum of all the numbers from 1 to that number 1:\n",
      "the sum of all the numbers from 1 to that number 3:\n",
      "the sum of all the numbers from 1 to that number 6:\n",
      "the sum of all the numbers from 1 to that number 10:\n",
      "the sum of all the numbers from 1 to that number 15:\n",
      "the sum of all the numbers from 1 to that number 21:\n",
      "the sum of all the numbers from 1 to that number 28:\n",
      "the sum of all the numbers from 1 to that number 36:\n",
      "the sum of all the numbers from 1 to that number 45:\n"
     ]
    }
   ],
   "source": [
    "n = int(input(\"Enter any integer:\"))\n",
    "total = 0\n",
    "for i in range(n+1):\n",
    "    total+= i\n",
    "    print(\"the sum of all the numbers from 1 to that number {}:\".format(total))"
   ]
  },
  {
   "cell_type": "markdown",
   "id": "01116973-3553-4544-acae-937e9706d752",
   "metadata": {},
   "source": [
    "Write a program to accept an integer from the user and calculate its factorial\n"
   ]
  },
  {
   "cell_type": "code",
   "execution_count": 21,
   "id": "14fe15b0-73bf-4985-947c-e8ed91507104",
   "metadata": {},
   "outputs": [
    {
     "name": "stdin",
     "output_type": "stream",
     "text": [
      "Enter any integer: 9\n"
     ]
    },
    {
     "name": "stdout",
     "output_type": "stream",
     "text": [
      "The factorial of 8 is 40320\n"
     ]
    }
   ],
   "source": [
    "n = int(input(\"Enter any integer:\"))\n",
    "fact = 1\n",
    "for i in range(1,n):\n",
    "    fact = fact*i\n",
    "print(\"The factorial of {} is {}\".format(i,fact))\n",
    "        "
   ]
  },
  {
   "cell_type": "markdown",
   "id": "ea035442-ef67-487a-a36a-d6778e571ea7",
   "metadata": {},
   "source": [
    "Write a program to print the following pattern "
   ]
  },
  {
   "cell_type": "code",
   "execution_count": 27,
   "id": "85ec0427-c692-4168-b605-402b8bcf6019",
   "metadata": {},
   "outputs": [
    {
     "name": "stdin",
     "output_type": "stream",
     "text": [
      "Enter any number: 5\n"
     ]
    },
    {
     "name": "stdout",
     "output_type": "stream",
     "text": [
      "*\n",
      "**\n",
      "***\n",
      "****\n",
      "*****\n"
     ]
    }
   ],
   "source": [
    "n = int(input(\"Enter any number:\"))\n",
    "for i in range(0,n):\n",
    "    for j in range(0,i+1):\n",
    "        print(\"*\",end = '')\n",
    "    print()"
   ]
  },
  {
   "cell_type": "markdown",
   "id": "27475bf7-5b5d-43fd-b974-6a2bdedc00f1",
   "metadata": {},
   "source": [
    "Write a program to print the following pattern"
   ]
  },
  {
   "cell_type": "code",
   "execution_count": 29,
   "id": "211f5082-be38-4aa8-890d-5354f3079576",
   "metadata": {},
   "outputs": [
    {
     "name": "stdin",
     "output_type": "stream",
     "text": [
      "Enter any number: 8\n"
     ]
    },
    {
     "name": "stdout",
     "output_type": "stream",
     "text": [
      "* * * * * * * * \n",
      "* * * * * * * \n",
      "* * * * * * \n",
      "* * * * * \n",
      "* * * * \n",
      "* * * \n",
      "* * \n",
      "* \n",
      "\n"
     ]
    }
   ],
   "source": [
    "n = int(input(\"Enter any number:\"))\n",
    "for i in range(n+1,0,-1):\n",
    "    for j in range(0,i-1):\n",
    "        print(\"*\",end = ' ')\n",
    "    print()\n",
    "        "
   ]
  },
  {
   "cell_type": "code",
   "execution_count": null,
   "id": "cb7cbf2e-0e8e-4194-920a-fbb7728bd0da",
   "metadata": {},
   "outputs": [],
   "source": []
  }
 ],
 "metadata": {
  "kernelspec": {
   "display_name": "Python 3 (ipykernel)",
   "language": "python",
   "name": "python3"
  },
  "language_info": {
   "codemirror_mode": {
    "name": "ipython",
    "version": 3
   },
   "file_extension": ".py",
   "mimetype": "text/x-python",
   "name": "python",
   "nbconvert_exporter": "python",
   "pygments_lexer": "ipython3",
   "version": "3.10.6"
  }
 },
 "nbformat": 4,
 "nbformat_minor": 5
}
